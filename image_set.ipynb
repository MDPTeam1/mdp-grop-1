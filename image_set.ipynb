{
  "nbformat": 4,
  "nbformat_minor": 0,
  "metadata": {
    "colab": {
      "provenance": []
    },
    "kernelspec": {
      "name": "python3",
      "display_name": "Python 3"
    },
    "language_info": {
      "name": "python"
    }
  },
  "cells": [
    {
      "cell_type": "code",
      "execution_count": 1,
      "metadata": {
        "colab": {
          "base_uri": "https://localhost:8080/"
        },
        "id": "kIMeSlMZLWDg",
        "outputId": "6b427b8b-ed96-4f3b-f1cf-24f926c7e10a"
      },
      "outputs": [
        {
          "output_type": "stream",
          "name": "stdout",
          "text": [
            "Requirement already satisfied: opencv-python in /usr/local/lib/python3.10/dist-packages (4.8.0.76)\n",
            "Requirement already satisfied: numpy>=1.21.2 in /usr/local/lib/python3.10/dist-packages (from opencv-python) (1.23.5)\n"
          ]
        }
      ],
      "source": [
        "!pip install opencv-python\n"
      ]
    },
    {
      "cell_type": "code",
      "source": [
        "from google.colab import drive\n",
        "\n",
        "drive.mount('/content/gdrive')\n"
      ],
      "metadata": {
        "colab": {
          "base_uri": "https://localhost:8080/"
        },
        "id": "jkGLvtlcLqOG",
        "outputId": "7caf8f59-de96-42fb-c7f0-8edf2807052e"
      },
      "execution_count": 2,
      "outputs": [
        {
          "output_type": "stream",
          "name": "stdout",
          "text": [
            "Mounted at /content/gdrive\n"
          ]
        }
      ]
    },
    {
      "cell_type": "code",
      "source": [
        "import os\n",
        "from PIL import Image\n",
        "\n",
        "input_dir = '/content/gdrive/My Drive/image/twix'\n",
        "output_dir = '/content/gdrive/My Drive/image/twix'\n",
        "\n",
        "# 입력 디렉토리가 존재하지 않는다면 생성\n",
        "if not os.path.exists(output_dir):\n",
        "    os.makedirs(output_dir)\n",
        "\n",
        "# 입력 디렉토리의 모든 이미지 파일을 가져와서 처리\n",
        "for filename in os.listdir(input_dir):\n",
        "    if filename.endswith('.jpg') or filename.endswith('.png'):\n",
        "        # 이미지를 로드\n",
        "        image = Image.open(os.path.join(input_dir, filename))\n",
        "\n",
        "        # 가로 반전\n",
        "        flipped_horizontal = image.transpose(Image.FLIP_LEFT_RIGHT)\n",
        "        flipped_horizontal.save(os.path.join(output_dir, 'horizontal_' + filename))\n",
        "\n",
        "        # 세로 반전\n",
        "        flipped_vertical = image.transpose(Image.FLIP_TOP_BOTTOM)\n",
        "        flipped_vertical.save(os.path.join(output_dir, 'vertical_' + filename))\n",
        "\n",
        "        # 가로+세로 반전\n",
        "        flipped_both = image.transpose(Image.FLIP_LEFT_RIGHT).transpose(Image.FLIP_TOP_BOTTOM)\n",
        "        flipped_both.save(os.path.join(output_dir, 'horizontal_vertical_' + filename))\n",
        "\n",
        "        # 90도 시계방향 회전\n",
        "        rotated_90 = image.rotate(90)\n",
        "        rotated_90.save(os.path.join(output_dir, 'rotate_90_' + filename))\n"
      ],
      "metadata": {
        "id": "yZ2VeOuoLzzh"
      },
      "execution_count": 5,
      "outputs": []
    },
    {
      "cell_type": "code",
      "source": [
        "!pip install numpy\n",
        "!pip install opencv-python\n"
      ],
      "metadata": {
        "colab": {
          "base_uri": "https://localhost:8080/"
        },
        "id": "aoqads-aQimv",
        "outputId": "93f04b84-76e5-4937-ddef-d57d070e9a61"
      },
      "execution_count": 6,
      "outputs": [
        {
          "output_type": "stream",
          "name": "stdout",
          "text": [
            "Requirement already satisfied: numpy in /usr/local/lib/python3.10/dist-packages (1.23.5)\n",
            "Requirement already satisfied: opencv-python in /usr/local/lib/python3.10/dist-packages (4.8.0.76)\n",
            "Requirement already satisfied: numpy>=1.21.2 in /usr/local/lib/python3.10/dist-packages (from opencv-python) (1.23.5)\n"
          ]
        }
      ]
    },
    {
      "cell_type": "code",
      "source": [
        "from google.colab import drive\n",
        "\n",
        "drive.mount('/content/gdrive')\n"
      ],
      "metadata": {
        "colab": {
          "base_uri": "https://localhost:8080/"
        },
        "id": "JA1UxpVeQl1z",
        "outputId": "0ed4419d-2633-4edf-8a90-79a6e1220eee"
      },
      "execution_count": 7,
      "outputs": [
        {
          "output_type": "stream",
          "name": "stdout",
          "text": [
            "Drive already mounted at /content/gdrive; to attempt to forcibly remount, call drive.mount(\"/content/gdrive\", force_remount=True).\n"
          ]
        }
      ]
    },
    {
      "cell_type": "code",
      "source": [
        "import os\n",
        "import cv2\n",
        "import numpy as np\n",
        "\n",
        "input_dir = '/content/gdrive/My Drive/image/free'\n",
        "output_dir = '/content/gdrive/My Drive/image/free'\n",
        "\n",
        "# 입력 디렉토리가 존재하지 않는다면 생성\n",
        "if not os.path.exists(output_dir):\n",
        "    os.makedirs(output_dir)\n",
        "\n",
        "# 입력 디렉토리의 모든 이미지 파일을 가져와서 처리\n",
        "for filename in os.listdir(input_dir):\n",
        "    if filename.endswith('.jpg') or filename.endswith('.png'):\n",
        "        # 이미지를 로드\n",
        "        image = cv2.imread(os.path.join(input_dir, filename))\n",
        "\n",
        "        # 이미지 크기 가져오기\n",
        "        height, width, _ = image.shape\n",
        "\n",
        "        # 노이즈 생성 (가우시안 노이즈)\n",
        "        mean = 0\n",
        "        std = 100  # 노이즈의 표준편차 조절\n",
        "        noise = np.random.normal(mean, std, (height, width, 3))\n",
        "\n",
        "        # 이미지에 노이즈 추가\n",
        "        noisy_image = np.clip(image + noise, 0, 255).astype(np.uint8)\n",
        "\n",
        "        # 노이즈가 추가된 이미지 저장\n",
        "        cv2.imwrite(os.path.join(output_dir, 'noisy_' + filename), noisy_image)\n",
        "\n",
        "\n",
        "input_dir = '/content/gdrive/My Drive/image/snick'\n",
        "output_dir = '/content/gdrive/My Drive/image/snick'\n",
        "\n",
        "# 입력 디렉토리가 존재하지 않는다면 생성\n",
        "if not os.path.exists(output_dir):\n",
        "    os.makedirs(output_dir)\n",
        "\n",
        "# 입력 디렉토리의 모든 이미지 파일을 가져와서 처리\n",
        "for filename in os.listdir(input_dir):\n",
        "    if filename.endswith('.jpg') or filename.endswith('.png'):\n",
        "        # 이미지를 로드\n",
        "        image = cv2.imread(os.path.join(input_dir, filename))\n",
        "\n",
        "        # 이미지 크기 가져오기\n",
        "        height, width, _ = image.shape\n",
        "\n",
        "        # 노이즈 생성 (가우시안 노이즈)\n",
        "        mean = 0\n",
        "        std = 100  # 노이즈의 표준편차 조절\n",
        "        noise = np.random.normal(mean, std, (height, width, 3))\n",
        "\n",
        "        # 이미지에 노이즈 추가\n",
        "        noisy_image = np.clip(image + noise, 0, 255).astype(np.uint8)\n",
        "\n",
        "        # 노이즈가 추가된 이미지 저장\n",
        "        cv2.imwrite(os.path.join(output_dir, 'noisy_' + filename), noisy_image)\n"
      ],
      "metadata": {
        "id": "ZQtBP8_BQqf5"
      },
      "execution_count": 15,
      "outputs": []
    },
    {
      "cell_type": "code",
      "source": [
        "#import os\n",
        "\n",
        "#folder_path = '/content/gdrive/My Drive/image/twix'  # 대상 폴더 경로\n",
        "\n",
        "# 폴더 내의 파일 목록 가져오기\n",
        "#file_list = os.listdir(folder_path)\n",
        "\n",
        "# \"noisy_\"로 시작하는 파일 삭제\n",
        "#for file_name in file_list:\n",
        "    #if file_name.startswith(\"noisy_\"):\n",
        "        #file_path = os.path.join(folder_path, file_name)\n",
        "        #os.remove(file_path)\n"
      ],
      "metadata": {
        "id": "tIZwGh3nSvqS"
      },
      "execution_count": 13,
      "outputs": []
    }
  ]
}